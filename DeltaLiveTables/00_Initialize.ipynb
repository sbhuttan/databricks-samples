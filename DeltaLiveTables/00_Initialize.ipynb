{
 "cells": [
  {
   "cell_type": "code",
   "execution_count": 0,
   "metadata": {
    "application/vnd.databricks.v1+cell": {
     "cellMetadata": {
      "byteLimit": 2048000,
      "rowLimit": 10000
     },
     "inputWidgets": {},
     "nuid": "9f6ebf9b-a7b0-4a68-a91e-c08c05506906",
     "showTitle": false,
     "tableResultSettingsMap": {},
     "title": ""
    }
   },
   "outputs": [],
   "source": [
    "--CREATE New Schema\n",
    "CREATE SCHEMA IF NOT EXISTS dev.etl"
   ]
  },
  {
   "cell_type": "code",
   "execution_count": 0,
   "metadata": {
    "application/vnd.databricks.v1+cell": {
     "cellMetadata": {
      "byteLimit": 2048000,
      "rowLimit": 10000
     },
     "inputWidgets": {},
     "nuid": "4e916460-2f35-4d7b-8fdf-f4294dbc01cb",
     "showTitle": false,
     "tableResultSettingsMap": {},
     "title": ""
    }
   },
   "outputs": [],
   "source": [
    "-- Clone  sample tables\n",
    "CREATE TABLE IF NOT EXISTS dev.bronze.orders_raw DEEP CLONE samples.tpch.orders;\n",
    "CREATE TABLE IF NOT EXISTS dev.bronze.customer_raw DEEP CLONE samples.tpch.customer;"
   ]
  },
  {
   "cell_type": "code",
   "execution_count": 0,
   "metadata": {
    "application/vnd.databricks.v1+cell": {
     "cellMetadata": {
      "byteLimit": 2048000,
      "rowLimit": 10000
     },
     "inputWidgets": {},
     "nuid": "c0dfa7d1-e88f-4568-8f21-4cb9da148d30",
     "showTitle": false,
     "tableResultSettingsMap": {},
     "title": ""
    }
   },
   "outputs": [],
   "source": [
    "select * from dev.etl.orders_agg_gold"
   ]
  },
  {
   "cell_type": "code",
   "execution_count": 0,
   "metadata": {
    "application/vnd.databricks.v1+cell": {
     "cellMetadata": {
      "byteLimit": 2048000,
      "rowLimit": 10000
     },
     "inputWidgets": {},
     "nuid": "66cf4ad8-6599-4fbb-adf8-e9f42217a7b1",
     "showTitle": false,
     "tableResultSettingsMap": {},
     "title": ""
    }
   },
   "outputs": [],
   "source": [
    "-- Add some data incrementally inn Orders\n",
    "INSERT INTO dev.bronze.orders_raw \n",
    "SELECT * FROM samples.tpch.orders\n",
    "LIMIT 1000"
   ]
  },
  {
   "cell_type": "code",
   "execution_count": 0,
   "metadata": {
    "application/vnd.databricks.v1+cell": {
     "cellMetadata": {
      "byteLimit": 2048000,
      "rowLimit": 10000
     },
     "inputWidgets": {},
     "nuid": "a9c66297-219a-44c6-a699-ff94bc6e0dec",
     "showTitle": false,
     "tableResultSettingsMap": {},
     "title": ""
    }
   },
   "outputs": [],
   "source": [
    "select * from dev.bronze.orders_raw"
   ]
  },
  {
   "cell_type": "code",
   "execution_count": 0,
   "metadata": {
    "application/vnd.databricks.v1+cell": {
     "cellMetadata": {
      "byteLimit": 2048000,
      "rowLimit": 10000
     },
     "inputWidgets": {},
     "nuid": "4ed055dd-83ab-42b3-aeb5-cb6723b48a88",
     "showTitle": false,
     "tableResultSettingsMap": {},
     "title": ""
    }
   },
   "outputs": [],
   "source": [
    "select * from dev.etl.orders_agg_gold"
   ]
  },
  {
   "cell_type": "code",
   "execution_count": 0,
   "metadata": {
    "application/vnd.databricks.v1+cell": {
     "cellMetadata": {
      "byteLimit": 2048000,
      "rowLimit": 10000
     },
     "inputWidgets": {},
     "nuid": "c0546271-0cf9-45aa-8d08-77025e90f59f",
     "showTitle": false,
     "tableResultSettingsMap": {},
     "title": ""
    }
   },
   "outputs": [],
   "source": [
    "-- Create Managed Volume\n",
    "CREATE VOLUME IF NOT EXISTS dev.etl.landing\n",
    "COMMENT 'Volume for source files'"
   ]
  },
  {
   "cell_type": "code",
   "execution_count": 0,
   "metadata": {
    "application/vnd.databricks.v1+cell": {
     "cellMetadata": {
      "byteLimit": 2048000,
      "rowLimit": 10000
     },
     "inputWidgets": {},
     "nuid": "f361c9bd-d05a-4eda-9fa9-f8dc26ceed59",
     "showTitle": false,
     "tableResultSettingsMap": {},
     "title": ""
    }
   },
   "outputs": [],
   "source": [
    "%python\n",
    "dbutils.fs.mkdirs(\"/Volumes/dev/etl/landing/files\")\n",
    "dbutils.fs.mkdirs(\"/Volumes/dev/etl/landing/autoloader/schemas\")"
   ]
  },
  {
   "cell_type": "code",
   "execution_count": 0,
   "metadata": {
    "application/vnd.databricks.v1+cell": {
     "cellMetadata": {
      "byteLimit": 2048000,
      "rowLimit": 10000
     },
     "inputWidgets": {},
     "nuid": "e2f4235b-8cf5-4450-b07d-c28eacb9efc6",
     "showTitle": false,
     "tableResultSettingsMap": {},
     "title": ""
    }
   },
   "outputs": [],
   "source": [
    "-- Add columns to Source customer_raw\n",
    "ALTER TABLE dev.bronze.customer_raw\n",
    "ADD COLUMNS(\n",
    "  __src_action STRING, -- Possible values I, D, T\n",
    "  __src_insert_dt TIMESTAMP\n",
    ")"
   ]
  },
  {
   "cell_type": "code",
   "execution_count": 0,
   "metadata": {
    "application/vnd.databricks.v1+cell": {
     "cellMetadata": {
      "byteLimit": 2048000,
      "rowLimit": 10000
     },
     "inputWidgets": {},
     "nuid": "98ee7e6b-1349-4c24-9127-3713d5030c0f",
     "showTitle": false,
     "tableResultSettingsMap": {},
     "title": ""
    }
   },
   "outputs": [],
   "source": [
    "-- Update the new columns __src_insert_dt and __src_action\n",
    "UPDATE dev.bronze.customer_raw\n",
    "SET __src_action = 'I',\n",
    "    __src_insert_dt = current_timestamp() - INTERVAL '3 days'\n",
    ";\n"
   ]
  },
  {
   "cell_type": "code",
   "execution_count": 0,
   "metadata": {
    "application/vnd.databricks.v1+cell": {
     "cellMetadata": {
      "byteLimit": 2048000,
      "rowLimit": 10000
     },
     "inputWidgets": {},
     "nuid": "e10dc00e-0686-4103-b5f0-82f5643d894c",
     "showTitle": false,
     "tableResultSettingsMap": {},
     "title": ""
    }
   },
   "outputs": [],
   "source": [
    "select * from dev.bronze.customer_raw"
   ]
  },
  {
   "cell_type": "code",
   "execution_count": 0,
   "metadata": {
    "application/vnd.databricks.v1+cell": {
     "cellMetadata": {
      "byteLimit": 2048000,
      "rowLimit": 10000
     },
     "inputWidgets": {},
     "nuid": "252695d1-e596-4ca4-a779-f7d40eebed47",
     "showTitle": false,
     "tableResultSettingsMap": {},
     "title": ""
    }
   },
   "outputs": [],
   "source": [
    "select * from dev.etl.customer_scd1_bronze\n",
    "where c_custkey = 6\n",
    ";\n"
   ]
  },
  {
   "cell_type": "code",
   "execution_count": 0,
   "metadata": {
    "application/vnd.databricks.v1+cell": {
     "cellMetadata": {
      "byteLimit": 2048000,
      "rowLimit": 10000
     },
     "inputWidgets": {},
     "nuid": "fe962ba4-8b9d-4d7e-b08b-37efd6c93666",
     "showTitle": false,
     "tableResultSettingsMap": {},
     "title": ""
    }
   },
   "outputs": [],
   "source": [
    "select * from dev.etl.customer_scd2_bronze\n",
    "where c_custkey = 6\n",
    ";"
   ]
  },
  {
   "cell_type": "code",
   "execution_count": 0,
   "metadata": {
    "application/vnd.databricks.v1+cell": {
     "cellMetadata": {
      "byteLimit": 2048000,
      "rowLimit": 10000
     },
     "inputWidgets": {},
     "nuid": "725d1cd4-bac9-4fb8-bd6e-e08198cb231e",
     "showTitle": false,
     "tableResultSettingsMap": {},
     "title": ""
    }
   },
   "outputs": [],
   "source": [
    "INSERT INTO dev.bronze.customer_raw\n",
    "VALUES(\n",
    "  6,'Customer#000000006',\t'asdfs23ds2swdgg', 20,\t'30-114-968-4951',7638.57,'AUTOMOBILE', 'New Changed Record', 'I', current_timestamp()\n",
    ")"
   ]
  },
  {
   "cell_type": "code",
   "execution_count": 0,
   "metadata": {
    "application/vnd.databricks.v1+cell": {
     "cellMetadata": {
      "byteLimit": 2048000,
      "rowLimit": 10000
     },
     "inputWidgets": {},
     "nuid": "25f3e857-d21a-43f7-98eb-06feaee5e09d",
     "showTitle": false,
     "tableResultSettingsMap": {},
     "title": ""
    }
   },
   "outputs": [],
   "source": [
    "INSERT INTO dev.bronze.customer_raw\n",
    "VALUES(\n",
    "  6,'Customer#000000006',\t'fudadsfsf', 20,\t'30-114-968-4951',7638.57,'BUILDING', 'Old REcord for back loading', 'I', current_timestamp() - interval '1 days'\n",
    ")"
   ]
  },
  {
   "cell_type": "code",
   "execution_count": 0,
   "metadata": {
    "application/vnd.databricks.v1+cell": {
     "cellMetadata": {
      "byteLimit": 2048000,
      "rowLimit": 10000
     },
     "inputWidgets": {},
     "nuid": "3ca77a5f-0d43-49f1-afa5-7725caade084",
     "showTitle": false,
     "tableResultSettingsMap": {},
     "title": ""
    }
   },
   "outputs": [],
   "source": [
    "INSERT INTO dev.bronze.customer_raw\n",
    "VALUES(\n",
    "  6,'Customer#000000006',\t'asdfs23ds2swdgg', 20,\t'30-114-968-4951',7638.57,'AUTOMOBILE', 'New Changed Record', 'D', current_timestamp()\n",
    ")"
   ]
  },
  {
   "cell_type": "code",
   "execution_count": 0,
   "metadata": {
    "application/vnd.databricks.v1+cell": {
     "cellMetadata": {
      "byteLimit": 2048000,
      "rowLimit": 10000
     },
     "inputWidgets": {},
     "nuid": "430efe7c-7797-42cd-9c2d-99cbf2cbf5f3",
     "showTitle": false,
     "tableResultSettingsMap": {},
     "title": ""
    }
   },
   "outputs": [],
   "source": [
    "INSERT INTO dev.bronze.customer_raw\n",
    "VALUES(\n",
    "  null,'Customer#000000006',\t'asdfs23ds2swdgg', 20,\t'30-114-968-4951',7638.57,'AUTOMOBILE', 'New Changed Record', 'T', current_timestamp()\n",
    ")"
   ]
  },
  {
   "cell_type": "code",
   "execution_count": 0,
   "metadata": {
    "application/vnd.databricks.v1+cell": {
     "cellMetadata": {
      "byteLimit": 2048000,
      "rowLimit": 10000
     },
     "inputWidgets": {},
     "nuid": "5c293177-4e07-49bb-b15a-93bca79e48dc",
     "showTitle": false,
     "tableResultSettingsMap": {},
     "title": ""
    }
   },
   "outputs": [],
   "source": [
    "-- Insert data in Orders Raw\n",
    "-- Setting o_orderestatus other than O, F and P\n",
    "-- Setting o_orderprice > 0\n",
    "\n",
    "INSERT INTO dev.bronze.orders_raw\n",
    "VALUES\n",
    "(99990, 227285, 'NA', 123023.00, '1992-09-29', '1-URGENT', 'CLERK#000000432',0,'Demo record 1 for Expectations test'),\n",
    "(99990, 227285, '0', -100, '1992-09-29', '1-URGENT', 'CLERK#000000432',0,'Demo record 2 for Expectations test'),\n",
    "(99990, 227285, null, 999, '1992-09-29', '1-URGENT', 'CLERK#000000432',0,'Demo record 3 for Expectations test')"
   ]
  },
  {
   "cell_type": "code",
   "execution_count": 0,
   "metadata": {
    "application/vnd.databricks.v1+cell": {
     "cellMetadata": {
      "byteLimit": 2048000,
      "rowLimit": 10000
     },
     "inputWidgets": {},
     "nuid": "e7a8e168-7f49-429c-a3e3-48e1a61abc43",
     "showTitle": false,
     "tableResultSettingsMap": {},
     "title": ""
    }
   },
   "outputs": [],
   "source": [
    "-- INSERT Data in Customer RAW\n",
    "-- Setting c_mktsegment as null\n",
    "INSERT INTO dev.bronze.customer_raw\n",
    "VALUES(\n",
    "    99990,'Customer#000000323',\t'4pd3ds2swdgg', 20,\t'30-114-968-4957',4638.57,null, 'Demo Record Expectations Test', 'I', current_timestamp()\n",
    ")"
   ]
  },
  {
   "cell_type": "code",
   "execution_count": 0,
   "metadata": {
    "application/vnd.databricks.v1+cell": {
     "cellMetadata": {
      "byteLimit": 2048000,
      "rowLimit": 10000
     },
     "inputWidgets": {},
     "nuid": "df0012ff-6612-4ee5-8400-c1888af77c96",
     "showTitle": false,
     "tableResultSettingsMap": {},
     "title": ""
    }
   },
   "outputs": [],
   "source": [
    "select * from dev.etl.orders_union_bronze \n",
    "where o_orderkey = 99999\n",
    ";"
   ]
  },
  {
   "cell_type": "code",
   "execution_count": 0,
   "metadata": {
    "application/vnd.databricks.v1+cell": {
     "cellMetadata": {
      "byteLimit": 2048000,
      "rowLimit": 10000
     },
     "inputWidgets": {},
     "nuid": "56d90576-6fd7-45ff-9b4c-86057643abe1",
     "showTitle": false,
     "tableResultSettingsMap": {},
     "title": ""
    }
   },
   "outputs": [],
   "source": [
    "select * from event_log('392f2e44-94ab-467b-929f-1ff7f16e4108')"
   ]
  },
  {
   "cell_type": "code",
   "execution_count": 0,
   "metadata": {
    "application/vnd.databricks.v1+cell": {
     "cellMetadata": {
      "byteLimit": 2048000,
      "rowLimit": 10000
     },
     "inputWidgets": {},
     "nuid": "669930c7-5119-4f1a-a103-2791ca8778b8",
     "showTitle": false,
     "tableResultSettingsMap": {},
     "title": ""
    }
   },
   "outputs": [],
   "source": [
    "CREATE VIEW event_log_raw\n",
    "AS SELECT * FROM event_log('392f2e44-94ab-467b-929f-1ff7f16e4108');"
   ]
  },
  {
   "cell_type": "code",
   "execution_count": 0,
   "metadata": {
    "application/vnd.databricks.v1+cell": {
     "cellMetadata": {
      "byteLimit": 2048000,
      "rowLimit": 10000
     },
     "inputWidgets": {},
     "nuid": "ee97efd4-94df-4527-a83b-1f6d4deacd44",
     "showTitle": false,
     "tableResultSettingsMap": {},
     "title": ""
    }
   },
   "outputs": [],
   "source": [
    "-- Truncate orders raw table\n",
    "TRUNCATE TABLE dev.bronze.orders_raw;\n"
   ]
  },
  {
   "cell_type": "code",
   "execution_count": 0,
   "metadata": {
    "application/vnd.databricks.v1+cell": {
     "cellMetadata": {
      "byteLimit": 2048000,
      "rowLimit": 10000
     },
     "inputWidgets": {},
     "nuid": "314859a5-f3b3-4271-91b0-8e074fdb81e8",
     "showTitle": false,
     "tableResultSettingsMap": {},
     "title": ""
    }
   },
   "outputs": [],
   "source": [
    "-- Insert 3 records\n",
    "INSERT INTO dev.bronze.orders_raw\n",
    "VALUES\n",
    "(999, 227285, 'O', 123023.00, '1992-09-29', '1-URGENT', 'CLERK#000000432',0,'Incremental record'),\n",
    "(999, 227285, 'O', 100, '1992-09-29', '1-URGENT', 'CLERK#000000432',0,'Incremental record'),\n",
    "(999, 227285, 'F', 999, '1992-09-29', '1-URGENT', 'CLERK#000000432',0,'Incremental record')"
   ]
  },
  {
   "cell_type": "code",
   "execution_count": 0,
   "metadata": {
    "application/vnd.databricks.v1+cell": {
     "cellMetadata": {
      "byteLimit": 2048000,
      "rowLimit": 10000
     },
     "inputWidgets": {},
     "nuid": "0e8f414e-5371-4d83-8b3c-62348e8d4287",
     "showTitle": false,
     "tableResultSettingsMap": {},
     "title": ""
    }
   },
   "outputs": [],
   "source": [
    "select * from dev.bronze.orders_raw"
   ]
  }
 ],
 "metadata": {
  "application/vnd.databricks.v1+notebook": {
   "computePreferences": {
    "hardware": {
     "accelerator": null,
     "gpuPoolId": null,
     "memory": null
    }
   },
   "dashboards": [],
   "environmentMetadata": {
    "base_environment": "",
    "environment_version": "3"
   },
   "inputWidgetPreferences": null,
   "language": "sql",
   "notebookMetadata": {
    "pythonIndentUnit": 4
   },
   "notebookName": "00_Initialize",
   "widgets": {}
  },
  "language_info": {
   "name": "sql"
  }
 },
 "nbformat": 4,
 "nbformat_minor": 0
}
