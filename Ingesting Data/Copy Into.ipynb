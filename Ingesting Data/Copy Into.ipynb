{
 "cells": [
  {
   "cell_type": "code",
   "execution_count": 0,
   "metadata": {
    "application/vnd.databricks.v1+cell": {
     "cellMetadata": {
      "byteLimit": 2048000,
      "rowLimit": 10000
     },
     "inputWidgets": {},
     "nuid": "89ac3377-a1bc-4f5e-be83-3335068fca1e",
     "showTitle": false,
     "tableResultSettingsMap": {},
     "title": ""
    }
   },
   "outputs": [],
   "source": [
    "-- Create new managed volume Landing under dev > bronze\n",
    "\n",
    "CREATE VOLUME dev.bronze.landing\n",
    "COMMENT \"This is Landing Managed Volume\"\n",
    ";\n"
   ]
  },
  {
   "cell_type": "code",
   "execution_count": 0,
   "metadata": {
    "application/vnd.databricks.v1+cell": {
     "cellMetadata": {
      "byteLimit": 2048000,
      "rowLimit": 10000
     },
     "inputWidgets": {},
     "nuid": "301256ea-f11b-4317-bd00-4938b29da757",
     "showTitle": false,
     "tableResultSettingsMap": {},
     "title": ""
    }
   },
   "outputs": [],
   "source": [
    "%python\n",
    "# Create new folder called input under Landing Volume\n",
    "dbutils.fs.mkdirs(\"/Volumes/dev/bronze/landing/input\")"
   ]
  },
  {
   "cell_type": "code",
   "execution_count": 0,
   "metadata": {
    "application/vnd.databricks.v1+cell": {
     "cellMetadata": {
      "byteLimit": 2048000,
      "rowLimit": 10000
     },
     "inputWidgets": {},
     "nuid": "985ae0ac-62fa-4032-88de-fc8ab27c7276",
     "showTitle": false,
     "tableResultSettingsMap": {},
     "title": ""
    }
   },
   "outputs": [],
   "source": [
    "%python\n",
    "# Copy retail invoice data from databricks-datasets\n",
    "dbutils.fs.cp(\"/databricks-datasets/definitive-guide/data/retail-data/by-day/2010-12-01.csv\", \"/Volumes/dev/bronze/landing/input\")"
   ]
  },
  {
   "cell_type": "code",
   "execution_count": 0,
   "metadata": {
    "application/vnd.databricks.v1+cell": {
     "cellMetadata": {
      "byteLimit": 2048000,
      "rowLimit": 10000
     },
     "inputWidgets": {},
     "nuid": "681f384a-c6ba-4006-afa0-1c7be6f7c546",
     "showTitle": false,
     "tableResultSettingsMap": {},
     "title": ""
    }
   },
   "outputs": [],
   "source": [
    "%python\n",
    "# Copy retail invoice data from databricks-datasets\n",
    "dbutils.fs.cp(\"/databricks-datasets/definitive-guide/data/retail-data/by-day/2010-12-02.csv\", \"/Volumes/dev/bronze/landing/input\")"
   ]
  },
  {
   "cell_type": "code",
   "execution_count": 0,
   "metadata": {
    "application/vnd.databricks.v1+cell": {
     "cellMetadata": {
      "byteLimit": 2048000,
      "rowLimit": 10000
     },
     "inputWidgets": {},
     "nuid": "c1b961e4-a8ce-48cb-9e93-a6f7150e5f1f",
     "showTitle": false,
     "tableResultSettingsMap": {},
     "title": ""
    }
   },
   "outputs": [],
   "source": [
    "-- Create placeholder table dev.bronze.invoice_cp - without any columns\n",
    "CREATE TABLE IF NOT EXISTS dev.bronze.invoice_cp\n",
    ";\n"
   ]
  },
  {
   "cell_type": "code",
   "execution_count": 0,
   "metadata": {
    "application/vnd.databricks.v1+cell": {
     "cellMetadata": {
      "byteLimit": 2048000,
      "rowLimit": 10000
     },
     "inputWidgets": {},
     "nuid": "a9d71cd9-4a88-404d-bffd-c0c2d1b8f945",
     "showTitle": false,
     "tableResultSettingsMap": {},
     "title": ""
    }
   },
   "outputs": [],
   "source": [
    "-- Use copy into to load data into place holder table\n",
    "COPY INTO dev.bronze.invoice_cp\n",
    "FROM \"/Volumes/dev/bronze/landing/input\"\n",
    "FILEFORMAT = CSV\n",
    "PATTERN = '*.csv'\n",
    "FORMAT_OPTIONS(\n",
    "  'header' = 'true',\n",
    "  'inferSchema' = 'true',\n",
    "  'mergeSchema' = 'true'\n",
    ")\n",
    "COPY_OPTIONS(\n",
    "  'mergeSchema' = 'true'\n",
    ")\n",
    ";"
   ]
  },
  {
   "cell_type": "code",
   "execution_count": 0,
   "metadata": {
    "application/vnd.databricks.v1+cell": {
     "cellMetadata": {
      "byteLimit": 2048000,
      "rowLimit": 10000
     },
     "inputWidgets": {},
     "nuid": "62d7936a-cbc4-4f1d-a709-ba329e188340",
     "showTitle": false,
     "tableResultSettingsMap": {},
     "title": ""
    }
   },
   "outputs": [],
   "source": [
    "-- View data from table\n",
    "\n",
    "select * from dev.bronze.invoice_cp"
   ]
  },
  {
   "cell_type": "code",
   "execution_count": 0,
   "metadata": {
    "application/vnd.databricks.v1+cell": {
     "cellMetadata": {
      "byteLimit": 2048000,
      "rowLimit": 10000
     },
     "inputWidgets": {},
     "nuid": "b160662c-1899-452c-aa27-83eebdd75a8d",
     "showTitle": false,
     "tableResultSettingsMap": {},
     "title": ""
    }
   },
   "outputs": [],
   "source": [
    "-- Describe table\n",
    "describe extended dev.bronze.invoice_cp"
   ]
  },
  {
   "cell_type": "code",
   "execution_count": 0,
   "metadata": {
    "application/vnd.databricks.v1+cell": {
     "cellMetadata": {
      "byteLimit": 2048000,
      "rowLimit": 10000
     },
     "inputWidgets": {},
     "nuid": "50dea854-1527-4f22-85b2-a23381667468",
     "showTitle": false,
     "tableResultSettingsMap": {},
     "title": ""
    }
   },
   "outputs": [],
   "source": [
    "-- Create new table with only 3 columns\n",
    "CREATE OR REPLACE TABLE dev.bronze.invoice_cp_alt(\n",
    "  InvoiceNo string,\n",
    "  StockCode string,\n",
    "  Quantity double,\n",
    "  _insert_date TIMESTAMP\n",
    ")\n",
    ";"
   ]
  },
  {
   "cell_type": "code",
   "execution_count": 0,
   "metadata": {
    "application/vnd.databricks.v1+cell": {
     "cellMetadata": {
      "byteLimit": 2048000,
      "rowLimit": 10000
     },
     "inputWidgets": {},
     "nuid": "db2a39b8-c090-4671-b5b4-d2d7c3b40b56",
     "showTitle": false,
     "tableResultSettingsMap": {},
     "title": ""
    }
   },
   "outputs": [],
   "source": [
    "-- Load data using COpy INTO \n",
    "COPY INTO dev.bronze.invoice_cp_alt\n",
    "FROM (\n",
    "  SELECT InvoiceNo, StockCode, cast(Quantity as double), current_timestamp() _insert_date\n",
    "  FROM\n",
    "  \"/Volumes/dev/bronze/landing/input\"\n",
    ")\n",
    "FILEFORMAT = CSV\n",
    "PATTERN = '*.csv'\n",
    "FORMAT_OPTIONS(\n",
    "  'header' = 'true',\n",
    "  'inferSchema' = 'true',\n",
    "  'mergeSchema' = 'true'\n",
    ")\n",
    ";\n"
   ]
  },
  {
   "cell_type": "code",
   "execution_count": 0,
   "metadata": {
    "application/vnd.databricks.v1+cell": {
     "cellMetadata": {
      "byteLimit": 2048000,
      "rowLimit": 10000
     },
     "inputWidgets": {},
     "nuid": "b9f67fc3-45fa-442f-8248-acfcbf6fbb35",
     "showTitle": false,
     "tableResultSettingsMap": {},
     "title": ""
    }
   },
   "outputs": [],
   "source": [
    "use catalog `dev`; select * from `bronze`.`invoice_cp_alt` limit 100;"
   ]
  }
 ],
 "metadata": {
  "application/vnd.databricks.v1+notebook": {
   "computePreferences": null,
   "dashboards": [],
   "environmentMetadata": {
    "base_environment": "",
    "environment_version": "3"
   },
   "inputWidgetPreferences": null,
   "language": "sql",
   "notebookMetadata": {
    "pythonIndentUnit": 4
   },
   "notebookName": "Copy Into",
   "widgets": {}
  },
  "language_info": {
   "name": "sql"
  }
 },
 "nbformat": 4,
 "nbformat_minor": 0
}
