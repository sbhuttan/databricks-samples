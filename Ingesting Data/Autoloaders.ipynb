{
 "cells": [
  {
   "cell_type": "code",
   "execution_count": 0,
   "metadata": {
    "application/vnd.databricks.v1+cell": {
     "cellMetadata": {
      "byteLimit": 2048000,
      "rowLimit": 10000
     },
     "inputWidgets": {},
     "nuid": "45b0900a-e3ce-4f71-860f-e94809338d05",
     "showTitle": false,
     "tableResultSettingsMap": {},
     "title": ""
    }
   },
   "outputs": [],
   "source": [
    "# Create autoloaders _input folder in volume\n",
    "dbutils.fs.mkdirs(\"/Volumes/dev/bronze/landing/autoloader_input/2010/12/01\")\n",
    "dbutils.fs.mkdirs(\"/Volumes/dev/bronze/landing/autoloader_input/2010/12/02\")\n",
    "dbutils.fs.mkdirs(\"/Volumes/dev/bronze/landing/autoloader_input/2010/12/03\")\n",
    "dbutils.fs.mkdirs(\"/Volumes/dev/bronze/landing/autoloader_input/2010/12/04\")\n",
    "dbutils.fs.mkdirs(\"/Volumes/dev/bronze/landing/autoloader_input/2010/12/05\")\n",
    "dbutils.fs.mkdirs(\"/Volumes/dev/bronze/landing/autoloader_input/2010/12/06\")\n",
    "dbutils.fs.mkdirs(\"/Volumes/dev/bronze/landing/autoloader_input/2010/12/07\")"
   ]
  },
  {
   "cell_type": "code",
   "execution_count": 0,
   "metadata": {
    "application/vnd.databricks.v1+cell": {
     "cellMetadata": {
      "byteLimit": 2048000,
      "rowLimit": 10000
     },
     "inputWidgets": {},
     "nuid": "b7f2e309-a040-46ab-89f5-41f346c840d8",
     "showTitle": false,
     "tableResultSettingsMap": {},
     "title": ""
    }
   },
   "outputs": [],
   "source": [
    "# Create checkpoint location in Volume\n",
    "dbutils.fs.mkdirs(\"/Volumes/dev/bronze/landing/checkpoint/autoloader\")"
   ]
  },
  {
   "cell_type": "code",
   "execution_count": 0,
   "metadata": {
    "application/vnd.databricks.v1+cell": {
     "cellMetadata": {
      "byteLimit": 2048000,
      "rowLimit": 10000
     },
     "inputWidgets": {},
     "nuid": "7e1ced3f-35e9-48ba-a967-3c7d04a6b510",
     "showTitle": false,
     "tableResultSettingsMap": {},
     "title": ""
    }
   },
   "outputs": [],
   "source": [
    "# Copy files to nested locations\n",
    "dbutils.fs.cp(\"/databricks-datasets/definitive-guide/data/retail-data/by-day/2010-12-01.csv\", \"/Volumes/dev/bronze/landing/autoloader_input/2010/12/01\")\n",
    "dbutils.fs.cp(\"/databricks-datasets/definitive-guide/data/retail-data/by-day/2010-12-02.csv\", \"/Volumes/dev/bronze/landing/autoloader_input/2010/12/02\")\n",
    "dbutils.fs.cp(\"/databricks-datasets/definitive-guide/data/retail-data/by-day/2010-12-03.csv\", \"/Volumes/dev/bronze/landing/autoloader_input/2010/12/03\")\n",
    "dbutils.fs.cp(\"/databricks-datasets/definitive-guide/data/retail-data/by-day/2010-12-05.csv\", \"/Volumes/dev/bronze/landing/autoloader_input/2010/12/05\")"
   ]
  },
  {
   "cell_type": "code",
   "execution_count": 0,
   "metadata": {
    "application/vnd.databricks.v1+cell": {
     "cellMetadata": {
      "byteLimit": 2048000,
      "rowLimit": 10000
     },
     "inputWidgets": {},
     "nuid": "2a30e464-ce1b-4bc1-a4a6-7a410e996ab4",
     "showTitle": false,
     "tableResultSettingsMap": {},
     "title": ""
    }
   },
   "outputs": [],
   "source": [
    "# Read files using Autoloader with Checkpoint\n",
    "# and schema location \"/Volumes/dev/bronze/landing/checkpoint/autoloader\"\n",
    "# File Detection Modes\n",
    "# - Directory Listing (uses API calls to detect new files)\n",
    "# - File Notification (uses Notification and Queue services - requires elevated cloud permissions for setup)\n",
    "\n",
    "df = (\n",
    "    spark\n",
    "    .readStream\n",
    "    .format(\"cloudFiles\")\n",
    "    .option(\"cloudFiles.format\", \"csv\")\n",
    "    .option(\"pathGlobFilter\", \"*.csv\")\n",
    "    .option(\"header\", \"true\")\n",
    "    .option(\"cloudFiles.schemaHints\", \"Quantity integer,UnitPrice double\")\n",
    "    .option(\"cloudFiles.schemaLocation\",\"/Volumes/dev/bronze/landing/checkpoint/autoloader/1/\")\n",
    "    .load(\"/Volumes/dev/bronze/landing/autoloader_input/*/\")\n",
    ")\n"
   ]
  },
  {
   "cell_type": "code",
   "execution_count": 0,
   "metadata": {
    "application/vnd.databricks.v1+cell": {
     "cellMetadata": {
      "byteLimit": 2048000,
      "rowLimit": 10000
     },
     "inputWidgets": {},
     "nuid": "2f0610b4-4255-4b1a-be27-b8a05fa29c1f",
     "showTitle": false,
     "tableResultSettingsMap": {},
     "title": ""
    }
   },
   "outputs": [],
   "source": [
    "# Write dataframe to delta table - dev.bronze.invoice_al_1\n",
    "from pyspark.sql.functions import col\n",
    "(\n",
    "    df\n",
    "    .withColumn(\"__file\", col(\"_metadata.file_name\"))\n",
    "    .writeStream\n",
    "    .option(\"checkpointLocation\", \"/Volumes/dev/bronze/landing/checkpoint/autoloader/1/\")\n",
    "    .outputMode(\"append\")\n",
    "    .trigger(availableNow=True)\n",
    "    .toTable(\"dev.bronze.invoice_al_1\")\n",
    ")"
   ]
  },
  {
   "cell_type": "code",
   "execution_count": 0,
   "metadata": {
    "application/vnd.databricks.v1+cell": {
     "cellMetadata": {
      "byteLimit": 2048000,
      "implicitDf": true,
      "rowLimit": 10000
     },
     "inputWidgets": {},
     "nuid": "b536a3e5-a619-448b-b840-f42576099345",
     "showTitle": false,
     "tableResultSettingsMap": {
      "0": {
       "dataGridStateBlob": "{\"version\":1,\"tableState\":{\"columnPinning\":{\"left\":[\"#row_number#\"],\"right\":[]},\"columnSizing\":{\"__file\":236},\"columnVisibility\":{}},\"settings\":{\"columns\":{}},\"syncTimestamp\":1757354705946}",
       "filterBlob": null,
       "queryPlanFiltersBlob": null,
       "tableResultIndex": 0
      }
     },
     "title": ""
    }
   },
   "outputs": [],
   "source": [
    "%sql\n",
    "select __file, count(1) from dev.bronze.invoice_al_1\n",
    "group by __file"
   ]
  }
 ],
 "metadata": {
  "application/vnd.databricks.v1+notebook": {
   "computePreferences": null,
   "dashboards": [],
   "environmentMetadata": {
    "base_environment": "",
    "environment_version": "3"
   },
   "inputWidgetPreferences": null,
   "language": "python",
   "notebookMetadata": {
    "mostRecentlyExecutedCommandWithImplicitDF": {
     "commandId": 8149172986966829,
     "dataframes": [
      "_sqldf"
     ]
    },
    "pythonIndentUnit": 4
   },
   "notebookName": "Autoloaders",
   "widgets": {}
  },
  "language_info": {
   "name": "python"
  }
 },
 "nbformat": 4,
 "nbformat_minor": 0
}
