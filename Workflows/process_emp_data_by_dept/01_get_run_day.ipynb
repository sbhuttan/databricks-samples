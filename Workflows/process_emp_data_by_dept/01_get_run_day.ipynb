{
 "cells": [
  {
   "cell_type": "code",
   "execution_count": 0,
   "metadata": {
    "application/vnd.databricks.v1+cell": {
     "cellMetadata": {
      "byteLimit": 2048000,
      "rowLimit": 10000
     },
     "inputWidgets": {},
     "nuid": "cd93c583-671b-4097-ab42-df4af597d6dd",
     "showTitle": false,
     "tableResultSettingsMap": {},
     "title": ""
    }
   },
   "outputs": [],
   "source": [
    "# ISO Data Input Format - 2025-09-08T11:33:02\n",
    "# Read date as input and get the day of week - Like Sun, Mon, etc.\n",
    "# Create input_date widget\n",
    "\n",
    "dbutils.widgets.text(\"input_date\",\"\")\n"
   ]
  },
  {
   "cell_type": "code",
   "execution_count": 0,
   "metadata": {
    "application/vnd.databricks.v1+cell": {
     "cellMetadata": {
      "byteLimit": 2048000,
      "rowLimit": 10000
     },
     "inputWidgets": {},
     "nuid": "305a55cc-09f6-4625-aa8c-5085a3653fe6",
     "showTitle": false,
     "tableResultSettingsMap": {},
     "title": ""
    }
   },
   "outputs": [],
   "source": [
    "_input_date = dbutils.widgets.get(\"input_date\")\n",
    "print(_input_date)\n",
    "_input_day = spark.sql(f\"\"\"\n",
    "                       select date_format(to_timestamp('{_input_date}', \"yyyy-MM-dd'T'HH:mm:sss\"), 'E')                           \n",
    "                       \"\"\").collect()[0][0]\n",
    "print(_input_day)"
   ]
  },
  {
   "cell_type": "code",
   "execution_count": 0,
   "metadata": {
    "application/vnd.databricks.v1+cell": {
     "cellMetadata": {
      "byteLimit": 2048000,
      "rowLimit": 10000
     },
     "inputWidgets": {},
     "nuid": "051facc0-cd6c-41f3-8186-594630554331",
     "showTitle": false,
     "tableResultSettingsMap": {},
     "title": ""
    }
   },
   "outputs": [],
   "source": [
    "# Export the day of the week using taskValues to use in next task\n",
    "\n",
    "dbutils.jobs.taskValues.set('input_day', _input_day)\n"
   ]
  }
 ],
 "metadata": {
  "application/vnd.databricks.v1+notebook": {
   "computePreferences": {
    "hardware": {
     "accelerator": null,
     "gpuPoolId": null,
     "memory": null
    }
   },
   "dashboards": [],
   "environmentMetadata": {
    "base_environment": "",
    "environment_version": "3"
   },
   "inputWidgetPreferences": null,
   "language": "python",
   "notebookMetadata": {
    "pythonIndentUnit": 4
   },
   "notebookName": "01_get_run_day",
   "widgets": {
    "input_date": {
     "currentValue": "2025-09-08T11:33:02",
     "nuid": "e71e2d7e-d92b-409a-8b1c-6d75d2f2afc8",
     "typedWidgetInfo": {
      "autoCreated": false,
      "defaultValue": "",
      "label": null,
      "name": "input_date",
      "options": {
       "widgetDisplayType": "Text",
       "validationRegex": null
      },
      "parameterDataType": "String"
     },
     "widgetInfo": {
      "widgetType": "text",
      "defaultValue": "",
      "label": null,
      "name": "input_date",
      "options": {
       "widgetType": "text",
       "autoCreated": false,
       "validationRegex": null
      }
     }
    }
   }
  },
  "language_info": {
   "name": "python"
  }
 },
 "nbformat": 4,
 "nbformat_minor": 0
}
